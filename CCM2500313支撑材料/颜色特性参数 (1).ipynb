{
 "cells": [
  {
   "cell_type": "code",
   "execution_count": 1,
   "id": "07598fe4-3458-4b02-8d97-50a8ec8b941d",
   "metadata": {},
   "outputs": [],
   "source": [
    "import pandas as pd\n",
    "import numpy as np\n",
    "import matplotlib.pyplot as plt\n",
    "%matplotlib inline"
   ]
  },
  {
   "cell_type": "code",
   "execution_count": 2,
   "id": "d75db267-a2a3-40b5-bae4-3286de1e77b2",
   "metadata": {},
   "outputs": [],
   "source": [
    "df = pd.read_excel(r'C:\\Users\\23163\\Desktop\\数模大赛\\\\Problem 1\\Problem 1.xlsx')"
   ]
  },
  {
   "cell_type": "code",
   "execution_count": 3,
   "id": "efbb3ca6-5526-4b85-b186-5a676fc2df35",
   "metadata": {},
   "outputs": [
    {
     "data": {
      "text/html": [
       "<div>\n",
       "<style scoped>\n",
       "    .dataframe tbody tr th:only-of-type {\n",
       "        vertical-align: middle;\n",
       "    }\n",
       "\n",
       "    .dataframe tbody tr th {\n",
       "        vertical-align: top;\n",
       "    }\n",
       "\n",
       "    .dataframe thead th {\n",
       "        text-align: right;\n",
       "    }\n",
       "</style>\n",
       "<table border=\"1\" class=\"dataframe\">\n",
       "  <thead>\n",
       "    <tr style=\"text-align: right;\">\n",
       "      <th></th>\n",
       "      <th>波长</th>\n",
       "      <th>光强</th>\n",
       "    </tr>\n",
       "  </thead>\n",
       "  <tbody>\n",
       "    <tr>\n",
       "      <th>0</th>\n",
       "      <td>380(mW/m2/nm)</td>\n",
       "      <td>0.021609</td>\n",
       "    </tr>\n",
       "    <tr>\n",
       "      <th>1</th>\n",
       "      <td>381(mW/m2/nm)</td>\n",
       "      <td>0.018694</td>\n",
       "    </tr>\n",
       "    <tr>\n",
       "      <th>2</th>\n",
       "      <td>382(mW/m2/nm)</td>\n",
       "      <td>0.017377</td>\n",
       "    </tr>\n",
       "    <tr>\n",
       "      <th>3</th>\n",
       "      <td>383(mW/m2/nm)</td>\n",
       "      <td>0.030297</td>\n",
       "    </tr>\n",
       "    <tr>\n",
       "      <th>4</th>\n",
       "      <td>384(mW/m2/nm)</td>\n",
       "      <td>0.029682</td>\n",
       "    </tr>\n",
       "    <tr>\n",
       "      <th>...</th>\n",
       "      <td>...</td>\n",
       "      <td>...</td>\n",
       "    </tr>\n",
       "    <tr>\n",
       "      <th>396</th>\n",
       "      <td>776(mW/m2/nm)</td>\n",
       "      <td>0.513383</td>\n",
       "    </tr>\n",
       "    <tr>\n",
       "      <th>397</th>\n",
       "      <td>777(mW/m2/nm)</td>\n",
       "      <td>0.500714</td>\n",
       "    </tr>\n",
       "    <tr>\n",
       "      <th>398</th>\n",
       "      <td>778(mW/m2/nm)</td>\n",
       "      <td>0.487418</td>\n",
       "    </tr>\n",
       "    <tr>\n",
       "      <th>399</th>\n",
       "      <td>779(mW/m2/nm)</td>\n",
       "      <td>0.474596</td>\n",
       "    </tr>\n",
       "    <tr>\n",
       "      <th>400</th>\n",
       "      <td>780(mW/m2/nm)</td>\n",
       "      <td>0.463097</td>\n",
       "    </tr>\n",
       "  </tbody>\n",
       "</table>\n",
       "<p>401 rows × 2 columns</p>\n",
       "</div>"
      ],
      "text/plain": [
       "                波长        光强\n",
       "0    380(mW/m2/nm)  0.021609\n",
       "1    381(mW/m2/nm)  0.018694\n",
       "2    382(mW/m2/nm)  0.017377\n",
       "3    383(mW/m2/nm)  0.030297\n",
       "4    384(mW/m2/nm)  0.029682\n",
       "..             ...       ...\n",
       "396  776(mW/m2/nm)  0.513383\n",
       "397  777(mW/m2/nm)  0.500714\n",
       "398  778(mW/m2/nm)  0.487418\n",
       "399  779(mW/m2/nm)  0.474596\n",
       "400  780(mW/m2/nm)  0.463097\n",
       "\n",
       "[401 rows x 2 columns]"
      ]
     },
     "execution_count": 3,
     "metadata": {},
     "output_type": "execute_result"
    }
   ],
   "source": [
    "df"
   ]
  },
  {
   "cell_type": "code",
   "execution_count": 4,
   "id": "2c94b118-c557-4980-a569-0abd0b36aeeb",
   "metadata": {},
   "outputs": [],
   "source": [
    "df['wavelength'] = df['波长'].str.extract(r'(\\d+)').astype(float)\n",
    "wls = df['wavelength'].values\n",
    "spd = df['光强'].values"
   ]
  },
  {
   "cell_type": "code",
   "execution_count": 6,
   "id": "8384da1d-bf6c-4e1c-a69c-7670cc5fd3d0",
   "metadata": {},
   "outputs": [
    {
     "data": {
      "text/plain": [
       "['380', '2.689900e-003', '2.000000e-004', '1.226000e-002']"
      ]
     },
     "execution_count": 6,
     "metadata": {},
     "output_type": "execute_result"
    }
   ],
   "source": [
    "df_cmf = pd.read_csv(r'C:\\Users\\23163\\Desktop\\数模大赛\\\\Problem 1\\ciexyzjv.csv')\n",
    "df_cmf.columns.tolist()"
   ]
  },
  {
   "cell_type": "code",
   "execution_count": 8,
   "id": "144a8835-14f8-4214-993f-0bfc336f10a0",
   "metadata": {},
   "outputs": [],
   "source": [
    "df_cmf = pd.read_csv(r'C:\\Users\\23163\\Desktop\\数模大赛\\\\Problem 1\\ciexyzjv.csv', header=None,\n",
    "                     names=['wavelength','xbar','ybar','zbar'])"
   ]
  },
  {
   "cell_type": "code",
   "execution_count": 9,
   "id": "45bd30e2-8ade-49ee-afa6-faccba1d25d5",
   "metadata": {},
   "outputs": [],
   "source": [
    "df_cmf = df_cmf[df_cmf['wavelength'].isin(wls)].sort_values('wavelength')\n",
    "wls_cmf = df_cmf['wavelength'].values\n",
    "xbar = df_cmf['xbar'].values\n",
    "ybar = df_cmf['ybar'].values\n",
    "zbar = df_cmf['zbar'].values"
   ]
  },
  {
   "cell_type": "code",
   "execution_count": 10,
   "id": "813ff123-2259-44fd-a8a3-c0e9f9090f14",
   "metadata": {},
   "outputs": [],
   "source": [
    "xbar_i = np.interp(wls, wls_cmf, xbar)\n",
    "ybar_i = np.interp(wls, wls_cmf, ybar)\n",
    "zbar_i = np.interp(wls, wls_cmf, zbar)"
   ]
  },
  {
   "cell_type": "code",
   "execution_count": 11,
   "id": "c8b679f5-da5f-4ba6-b135-dbd0d453f15a",
   "metadata": {},
   "outputs": [],
   "source": [
    "X = np.trapz(spd * xbar_i, wls)\n",
    "Y = np.trapz(spd * ybar_i, wls)\n",
    "Z = np.trapz(spd * zbar_i, wls)"
   ]
  },
  {
   "cell_type": "code",
   "execution_count": 12,
   "id": "7ed45009-f71e-4b7c-90a8-5884a9d6c778",
   "metadata": {},
   "outputs": [
    {
     "name": "stdout",
     "output_type": "stream",
     "text": [
      "X=1437.000, Y=1428.797, Z=832.470\n"
     ]
    }
   ],
   "source": [
    "print(f\"X={X:.3f}, Y={Y:.3f}, Z={Z:.3f}\")"
   ]
  },
  {
   "cell_type": "code",
   "execution_count": 16,
   "id": "42b99233-46ee-4873-b882-dd2bdbc15da3",
   "metadata": {},
   "outputs": [
    {
     "name": "stdout",
     "output_type": "stream",
     "text": [
      "0.3885603348086552 0.3863423638307409\n",
      "Computed CCT (McCamy) = 3855.89 K\n"
     ]
    }
   ],
   "source": [
    "sum_xyz = X + Y + Z\n",
    "x = X / sum_xyz\n",
    "y = Y / sum_xyz\n",
    "n = (x - 0.3320) / (y - 0.1858)\n",
    "\n",
    "# 6. 应用 McCamy 近似公式\n",
    "CCT_mccamy = -437 * n**3 + 3601 * n**2 - 6861 * n + 5514.31\n",
    "\n",
    "print(x, y)\n",
    "print(f\"Computed CCT (McCamy) = {CCT_mccamy:.2f} K\")"
   ]
  },
  {
   "cell_type": "code",
   "execution_count": 17,
   "id": "74820a95-0430-429a-b60e-1d86ecca4ae5",
   "metadata": {},
   "outputs": [],
   "source": [
    "up = 4 * X / (X + 15 * Y + 3 * Z)\n",
    "vp = 9 * Y / (X + 15 * Y + 3 * Z)\n",
    "\n",
    "def u_bb(T):\n",
    "    return (0.860117757 + 1.54118254e-4 * T + 1.28641212e-7 * T**2) / \\\n",
    "           (1 + 8.42420235e-4 * T + 7.08145163e-7 * T**2)\n",
    "\n",
    "def v_bb(T):\n",
    "    return (0.317398726 + 4.22806245e-5 * T + 4.20481691e-8 * T**2) / \\\n",
    "           (1 - 2.89741816e-5 * T + 1.61456053e-7 * T**2)\n",
    "\n",
    "# —————————————— 9. 黑体轨迹在 CIE1960 UCS → 换算到 CIE1976 u',v' ——————————————\n",
    "ubb_val = u_bb(CCT_mccamy)       # CIE1960 u\n",
    "vbb_val = v_bb(CCT_mccamy)       # CIE1960 v\n",
    "up_bb = ubb_val                  # CIE1976 u' 等于 CIE1960 u\n",
    "vp_bb = 1.5 * vbb_val            # CIE1976 v' = (9/6)*v"
   ]
  },
  {
   "cell_type": "code",
   "execution_count": 18,
   "id": "59e099cd-9eab-4ba8-a895-36a8c4dae621",
   "metadata": {},
   "outputs": [
    {
     "name": "stdout",
     "output_type": "stream",
     "text": [
      "Duv (unsigned) = 0.0030\n"
     ]
    }
   ],
   "source": [
    "Duv = np.sqrt((up - up_bb)**2 + (vp - vp_bb)**2)\n",
    "print(f\"Duv (unsigned) = {Duv:.4f}\")"
   ]
  },
  {
   "cell_type": "code",
   "execution_count": 19,
   "id": "9f60ae49-4b5e-4545-a850-b859b368fd39",
   "metadata": {},
   "outputs": [
    {
     "data": {
      "image/png": "[encoded data removed]",
      "text/plain": [
       "<Figure size 800x400 with 1 Axes>"
      ]
     },
     "metadata": {},
     "output_type": "display_data"
    }
   ],
   "source": [
    "\n",
    "# 假设你已经有：\n",
    "# wls = df['wavelength'].values   # 波长数组\n",
    "# spd = df['光强'].values          # 对应的光强\n",
    "\n",
    "plt.figure(figsize=(8, 4))\n",
    "plt.plot(wls, spd, linewidth=2)\n",
    "plt.xlabel('Wavelength (nm)')\n",
    "plt.ylabel('Relative Power')\n",
    "plt.title('Original spectral distribution(SPD)')\n",
    "plt.grid(True, linestyle='--', alpha=0.5)\n",
    "plt.xlim(wls.min(), wls.max())\n",
    "plt.tight_layout()\n",
    "plt.show()"
   ]
  }
 ],
 "metadata": {
  "kernelspec": {
   "display_name": "Python 3 (ipykernel)",
   "language": "python",
   "name": "python3"
  },
  "language_info": {
   "codemirror_mode": {
    "name": "ipython",
    "version": 3
   },
   "file_extension": ".py",
   "mimetype": "text/x-python",
   "name": "python",
   "nbconvert_exporter": "python",
   "pygments_lexer": "ipython3",
   "version": "3.12.7"
  }
 },
 "nbformat": 4,
 "nbformat_minor": 5
}
