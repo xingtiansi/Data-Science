{
 "cells": [
  {
   "cell_type": "code",
   "execution_count": 1,
   "id": "21167153-c3c7-41bd-9587-8773eeccc3e5",
   "metadata": {},
   "outputs": [],
   "source": [
    "import pandas as pd\n",
    "import numpy as np\n",
    "import matplotlib.pyplot as plt\n",
    "%matplotlib inline\n",
    "\n",
    "df = pd.read_excel(r'C:\\Users\\23163\\Desktop\\数模大赛\\Problem 1\\Problem 1.xlsx')\n",
    "\n",
    "df['wavelength'] = df['波长'].str.extract(r'(\\d+)').astype(float)\n",
    "wls = df['wavelength'].values\n",
    "spd = df['光强'].values"
   ]
  },
  {
   "cell_type": "code",
   "execution_count": 2,
   "id": "df5ff608-24f4-4d0a-8088-4240c35224af",
   "metadata": {},
   "outputs": [],
   "source": [
    "import colour\n",
    "\n",
    "sd_dict = dict(zip(wls, spd))\n",
    "sd_test = colour.SpectralDistribution(sd_dict, name='Test SPD')"
   ]
  },
  {
   "cell_type": "code",
   "execution_count": 38,
   "id": "b72a496b-1baf-4ddb-942d-171a891a3fc6",
   "metadata": {},
   "outputs": [],
   "source": [
    "from colour.colorimetry import SpectralDistribution\n",
    "from colour.quality.tm3018 import colour_fidelity_index_ANSIIESTM3018"
   ]
  },
  {
   "cell_type": "code",
   "execution_count": 40,
   "id": "689723d3-07d3-430f-9007-18c211b078c4",
   "metadata": {},
   "outputs": [
    {
     "name": "stdout",
     "output_type": "stream",
     "text": [
      "ANSI/IES TM-30-18 Fidelity Index Rf = 91.79\n"
     ]
    }
   ],
   "source": [
    "rf = colour_fidelity_index_ANSIIESTM3018(sd_test)\n",
    "\n",
    "print(f\"ANSI/IES TM-30-18 Fidelity Index Rf = {rf:.2f}\")"
   ]
  },
  {
   "cell_type": "code",
   "execution_count": 31,
   "id": "4b795a70-e058-463e-bdf3-cf8b85a0f58b",
   "metadata": {},
   "outputs": [],
   "source": [
    "d65 = colour.SDS_ILLUMINANTS['D65']\n",
    "spd_ref = np.interp(wls, d65.wavelengths, d65.values)"
   ]
  },
  {
   "cell_type": "code",
   "execution_count": 29,
   "id": "e6b5c447-6337-4422-a954-709ba5102775",
   "metadata": {},
   "outputs": [
    {
     "name": "stdout",
     "output_type": "stream",
     "text": [
      "模拟版   → Rf = 84.49, Rg = 96.84\n"
     ]
    }
   ],
   "source": [
    "ref_Lab   = np.random.uniform(20, 80,  size=(99, 3))  # 模拟参考 J′a′b′\n",
    "test_Lab  = ref_Lab + np.random.normal(0, 2, size=(99, 3))  # 加一点噪声\n",
    "delta_E   = np.linalg.norm(ref_Lab - test_Lab, axis=1)      # 每个样本的 ΔE\n",
    "Rf_sim    = 100 - 4.6 * np.mean(delta_E)                    # CIE CRI 近似\n",
    "Rg_sim    = 100 * (1 + np.random.uniform(-0.1, 0.1))        # 随机给一个 ±10% 的 Rg\n",
    "print(\"模拟版   → Rf = %.2f, Rg = %.2f\" % (Rf_sim, Rg_sim))"
   ]
  },
  {
   "cell_type": "code",
   "execution_count": 42,
   "id": "9952cf6c-0de6-4896-9d64-3538011570da",
   "metadata": {},
   "outputs": [
    {
     "ename": "ImportError",
     "evalue": "cannot import name 'colour_gamut_index_ANSIIESTM3018' from 'colour.quality.tm3018' (C:\\Users\\23163\\anaconda3\\Lib\\site-packages\\colour\\quality\\tm3018.py)",
     "output_type": "error",
     "traceback": [
      "\u001b[1;31m---------------------------------------------------------------------------\u001b[0m",
      "\u001b[1;31mImportError\u001b[0m                               Traceback (most recent call last)",
      "Cell \u001b[1;32mIn[42], line 3\u001b[0m\n\u001b[0;32m      1\u001b[0m \u001b[38;5;28;01mimport\u001b[39;00m \u001b[38;5;21;01mpandas\u001b[39;00m \u001b[38;5;28;01mas\u001b[39;00m \u001b[38;5;21;01mpd\u001b[39;00m\n\u001b[0;32m      2\u001b[0m \u001b[38;5;28;01mimport\u001b[39;00m \u001b[38;5;21;01mcolour\u001b[39;00m\n\u001b[1;32m----> 3\u001b[0m \u001b[38;5;28;01mfrom\u001b[39;00m \u001b[38;5;21;01mcolour\u001b[39;00m\u001b[38;5;21;01m.\u001b[39;00m\u001b[38;5;21;01mquality\u001b[39;00m\u001b[38;5;21;01m.\u001b[39;00m\u001b[38;5;21;01mtm3018\u001b[39;00m \u001b[38;5;28;01mimport\u001b[39;00m (\n\u001b[0;32m      4\u001b[0m     colour_fidelity_index_ANSIIESTM3018,\n\u001b[0;32m      5\u001b[0m     colour_gamut_index_ANSIIESTM3018,\n\u001b[0;32m      6\u001b[0m )\n\u001b[0;32m      8\u001b[0m \u001b[38;5;66;03m# 1. 构造你的 sd_test（同前）\u001b[39;00m\n\u001b[0;32m      9\u001b[0m df \u001b[38;5;241m=\u001b[39m pd\u001b[38;5;241m.\u001b[39mread_excel(\u001b[38;5;124mr\u001b[39m\u001b[38;5;124m'\u001b[39m\u001b[38;5;124mC:\u001b[39m\u001b[38;5;124m\\\u001b[39m\u001b[38;5;124mUsers\u001b[39m\u001b[38;5;124m\\\u001b[39m\u001b[38;5;124m23163\u001b[39m\u001b[38;5;124m\\\u001b[39m\u001b[38;5;124mDesktop\u001b[39m\u001b[38;5;124m\\\u001b[39m\u001b[38;5;124m数模大赛\u001b[39m\u001b[38;5;124m\\\u001b[39m\u001b[38;5;124mProblem 1\u001b[39m\u001b[38;5;124m\\\u001b[39m\u001b[38;5;124mProblem 1.xlsx\u001b[39m\u001b[38;5;124m'\u001b[39m)\n",
      "\u001b[1;31mImportError\u001b[0m: cannot import name 'colour_gamut_index_ANSIIESTM3018' from 'colour.quality.tm3018' (C:\\Users\\23163\\anaconda3\\Lib\\site-packages\\colour\\quality\\tm3018.py)"
     ]
    }
   ],
   "source": [
    "import pandas as pd\n",
    "import colour\n",
    "from colour.quality.tm3018 import (\n",
    "    colour_fidelity_index_ANSIIESTM3018,\n",
    "    colour_gamut_index_ANSIIESTM3018,\n",
    ")\n",
    "\n",
    "# 1. 构造你的 sd_test（同前）\n",
    "df = pd.read_excel(r'C:\\Users\\23163\\Desktop\\数模大赛\\Problem 1\\Problem 1.xlsx')\n",
    "df['wavelength'] = df['波长'].str.extract(r'(\\d+)').astype(float)\n",
    "wls = df['wavelength'].values\n",
    "spd = df['光强'].values\n",
    "sd_test = colour.SpectralDistribution(dict(zip(wls, spd)), name='Test SPD')\n",
    "\n",
    "# 2. 计算 Rf 与 Rg\n",
    "Rf = colour_fidelity_index_ANSI_IESTM3018(sd_test)\n",
    "Rg = colour_gamut_index_ANSI_IESTM3018(sd_test)\n",
    "\n",
    "print(f\"TM-30-18 Fidelity Index Rf = {Rf:.2f}\")\n",
    "print(f\"TM-30-18 Gamut   Index Rg = {Rg:.2f}\")"
   ]
  },
  {
   "cell_type": "code",
   "execution_count": 43,
   "id": "055d793e-0a2e-4069-b579-03511692d96b",
   "metadata": {},
   "outputs": [
    {
     "ename": "ImportError",
     "evalue": "cannot import name 'colour_gamut_index_ANSIIESTM3018' from 'colour.quality.tm3018' (C:\\Users\\23163\\anaconda3\\Lib\\site-packages\\colour\\quality\\tm3018.py)",
     "output_type": "error",
     "traceback": [
      "\u001b[1;31m---------------------------------------------------------------------------\u001b[0m",
      "\u001b[1;31mImportError\u001b[0m                               Traceback (most recent call last)",
      "Cell \u001b[1;32mIn[43], line 1\u001b[0m\n\u001b[1;32m----> 1\u001b[0m \u001b[38;5;28;01mfrom\u001b[39;00m \u001b[38;5;21;01mcolour\u001b[39;00m\u001b[38;5;21;01m.\u001b[39;00m\u001b[38;5;21;01mquality\u001b[39;00m\u001b[38;5;21;01m.\u001b[39;00m\u001b[38;5;21;01mtm3018\u001b[39;00m \u001b[38;5;28;01mimport\u001b[39;00m colour_gamut_index_ANSIIESTM3018\n",
      "\u001b[1;31mImportError\u001b[0m: cannot import name 'colour_gamut_index_ANSIIESTM3018' from 'colour.quality.tm3018' (C:\\Users\\23163\\anaconda3\\Lib\\site-packages\\colour\\quality\\tm3018.py)"
     ]
    }
   ],
   "source": [
    "from colour.quality.tm3018 import colour_gamut_index_ANSIIESTM3018"
   ]
  }
 ],
 "metadata": {
  "kernelspec": {
   "display_name": "Python 3 (ipykernel)",
   "language": "python",
   "name": "python3"
  },
  "language_info": {
   "codemirror_mode": {
    "name": "ipython",
    "version": 3
   },
   "file_extension": ".py",
   "mimetype": "text/x-python",
   "name": "python",
   "nbconvert_exporter": "python",
   "pygments_lexer": "ipython3",
   "version": "3.12.7"
  }
 },
 "nbformat": 4,
 "nbformat_minor": 5
}
